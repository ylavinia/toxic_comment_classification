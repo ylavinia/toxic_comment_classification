{
  "cells": [
    {
      "cell_type": "code",
      "execution_count": null,
      "id": "f61b7437-4517-4f7b-933a-3ae0c857d05d",
      "metadata": {
        "id": "f61b7437-4517-4f7b-933a-3ae0c857d05d"
      },
      "outputs": [],
      "source": [
        "import pandas as pd\n",
        "from sklearn.model_selection import train_test_split\n",
        "from transformers import TFBertForSequenceClassification, BertTokenizer, BertConfig\n",
        "import tensorflow as tf\n",
        "import keras_tuner as kt\n",
        "import matplotlib.pyplot as plt\n",
        "import seaborn as sns\n",
        "from tensorflow.keras.callbacks import EarlyStopping\n",
        "from tensorflow.keras.mixed_precision import set_global_policy\n",
        "set_global_policy('mixed_float16')\n",
        "import os\n",
        "import warnings\n",
        "from transformers import logging as hf_logging\n",
        "\n",
        "os.environ['TF_CPP_MIN_LOG_LEVEL'] = '2'\n",
        "warnings.filterwarnings('ignore')\n",
        "hf_logging.set_verbosity_error()\n",
        "from tensorflow.keras.callbacks import TensorBoard\n",
        "import datetime"
      ]
    },
    {
      "cell_type": "code",
      "execution_count": null,
      "id": "3b6ae8f6-2a06-4afe-b645-a767e5578d21",
      "metadata": {
        "id": "3b6ae8f6-2a06-4afe-b645-a767e5578d21"
      },
      "outputs": [],
      "source": [
        "df = pd.read_csv('train.csv')"
      ]
    },
    {
      "cell_type": "code",
      "execution_count": null,
      "id": "7cdc7e92-8ac2-4b53-a264-f41130b44523",
      "metadata": {
        "id": "7cdc7e92-8ac2-4b53-a264-f41130b44523",
        "outputId": "4b1595dc-a070-4ff7-b0d7-70c430f03581"
      },
      "outputs": [
        {
          "data": {
            "text/html": [
              "<div>\n",
              "<style scoped>\n",
              "    .dataframe tbody tr th:only-of-type {\n",
              "        vertical-align: middle;\n",
              "    }\n",
              "\n",
              "    .dataframe tbody tr th {\n",
              "        vertical-align: top;\n",
              "    }\n",
              "\n",
              "    .dataframe thead th {\n",
              "        text-align: right;\n",
              "    }\n",
              "</style>\n",
              "<table border=\"1\" class=\"dataframe\">\n",
              "  <thead>\n",
              "    <tr style=\"text-align: right;\">\n",
              "      <th></th>\n",
              "      <th>id</th>\n",
              "      <th>comment_text</th>\n",
              "      <th>toxic</th>\n",
              "      <th>severe_toxic</th>\n",
              "      <th>obscene</th>\n",
              "      <th>threat</th>\n",
              "      <th>insult</th>\n",
              "      <th>identity_hate</th>\n",
              "    </tr>\n",
              "  </thead>\n",
              "  <tbody>\n",
              "    <tr>\n",
              "      <th>0</th>\n",
              "      <td>0000997932d777bf</td>\n",
              "      <td>Explanation\\nWhy the edits made under my usern...</td>\n",
              "      <td>0</td>\n",
              "      <td>0</td>\n",
              "      <td>0</td>\n",
              "      <td>0</td>\n",
              "      <td>0</td>\n",
              "      <td>0</td>\n",
              "    </tr>\n",
              "    <tr>\n",
              "      <th>1</th>\n",
              "      <td>000103f0d9cfb60f</td>\n",
              "      <td>D'aww! He matches this background colour I'm s...</td>\n",
              "      <td>0</td>\n",
              "      <td>0</td>\n",
              "      <td>0</td>\n",
              "      <td>0</td>\n",
              "      <td>0</td>\n",
              "      <td>0</td>\n",
              "    </tr>\n",
              "    <tr>\n",
              "      <th>2</th>\n",
              "      <td>000113f07ec002fd</td>\n",
              "      <td>Hey man, I'm really not trying to edit war. It...</td>\n",
              "      <td>0</td>\n",
              "      <td>0</td>\n",
              "      <td>0</td>\n",
              "      <td>0</td>\n",
              "      <td>0</td>\n",
              "      <td>0</td>\n",
              "    </tr>\n",
              "    <tr>\n",
              "      <th>3</th>\n",
              "      <td>0001b41b1c6bb37e</td>\n",
              "      <td>\"\\nMore\\nI can't make any real suggestions on ...</td>\n",
              "      <td>0</td>\n",
              "      <td>0</td>\n",
              "      <td>0</td>\n",
              "      <td>0</td>\n",
              "      <td>0</td>\n",
              "      <td>0</td>\n",
              "    </tr>\n",
              "    <tr>\n",
              "      <th>4</th>\n",
              "      <td>0001d958c54c6e35</td>\n",
              "      <td>You, sir, are my hero. Any chance you remember...</td>\n",
              "      <td>0</td>\n",
              "      <td>0</td>\n",
              "      <td>0</td>\n",
              "      <td>0</td>\n",
              "      <td>0</td>\n",
              "      <td>0</td>\n",
              "    </tr>\n",
              "  </tbody>\n",
              "</table>\n",
              "</div>"
            ],
            "text/plain": [
              "                 id                                       comment_text  toxic  \\\n",
              "0  0000997932d777bf  Explanation\\nWhy the edits made under my usern...      0   \n",
              "1  000103f0d9cfb60f  D'aww! He matches this background colour I'm s...      0   \n",
              "2  000113f07ec002fd  Hey man, I'm really not trying to edit war. It...      0   \n",
              "3  0001b41b1c6bb37e  \"\\nMore\\nI can't make any real suggestions on ...      0   \n",
              "4  0001d958c54c6e35  You, sir, are my hero. Any chance you remember...      0   \n",
              "\n",
              "   severe_toxic  obscene  threat  insult  identity_hate  \n",
              "0             0        0       0       0              0  \n",
              "1             0        0       0       0              0  \n",
              "2             0        0       0       0              0  \n",
              "3             0        0       0       0              0  \n",
              "4             0        0       0       0              0  "
            ]
          },
          "execution_count": 4,
          "metadata": {},
          "output_type": "execute_result"
        }
      ],
      "source": [
        "df.head(5)"
      ]
    },
    {
      "cell_type": "code",
      "execution_count": null,
      "id": "16880f44-6d7e-44e6-8553-e94eb41adba8",
      "metadata": {
        "id": "16880f44-6d7e-44e6-8553-e94eb41adba8"
      },
      "outputs": [],
      "source": [
        "label_columns = ['toxic', 'severe_toxic', 'obscene', 'threat', 'insult', 'identity_hate']"
      ]
    },
    {
      "cell_type": "code",
      "execution_count": null,
      "id": "1322f97e-9f9e-4962-8add-ad03258d2927",
      "metadata": {
        "id": "1322f97e-9f9e-4962-8add-ad03258d2927",
        "outputId": "b39ebce5-c386-4c9c-d98b-35a49ff29141"
      },
      "outputs": [
        {
          "data": {
            "text/plain": [
              "(159571, 8)"
            ]
          },
          "execution_count": 6,
          "metadata": {},
          "output_type": "execute_result"
        }
      ],
      "source": [
        "df.shape"
      ]
    },
    {
      "cell_type": "code",
      "execution_count": null,
      "id": "e8668ff8-8858-409b-925e-75eeb8fc27c8",
      "metadata": {
        "id": "e8668ff8-8858-409b-925e-75eeb8fc27c8"
      },
      "outputs": [],
      "source": [
        "class_counts = df[label_columns].sum()"
      ]
    },
    {
      "cell_type": "code",
      "execution_count": null,
      "id": "b1c354e2-6f17-4fc5-a0a7-72b32716e996",
      "metadata": {
        "id": "b1c354e2-6f17-4fc5-a0a7-72b32716e996",
        "outputId": "d56b73d4-4aef-4d67-9b37-56b058d0361d"
      },
      "outputs": [
        {
          "data": {
            "text/plain": [
              "toxic            15294\n",
              "severe_toxic      1595\n",
              "obscene           8449\n",
              "threat             478\n",
              "insult            7877\n",
              "identity_hate     1405\n",
              "dtype: int64"
            ]
          },
          "execution_count": 8,
          "metadata": {},
          "output_type": "execute_result"
        }
      ],
      "source": [
        "class_counts"
      ]
    },
    {
      "cell_type": "markdown",
      "id": "496f0eee-50f6-4771-8832-6d6f851a10a3",
      "metadata": {
        "id": "496f0eee-50f6-4771-8832-6d6f851a10a3"
      },
      "source": [
        "# Toxic Comment Classification using BERT"
      ]
    },
    {
      "cell_type": "code",
      "execution_count": null,
      "id": "fe6d797b-f5d2-4a8d-a981-eb9f5e6ed8cd",
      "metadata": {
        "id": "fe6d797b-f5d2-4a8d-a981-eb9f5e6ed8cd"
      },
      "outputs": [],
      "source": [
        "df['text'] = df['comment_text']\n",
        "df['targets'] = df[label_columns].values.tolist()"
      ]
    },
    {
      "cell_type": "code",
      "execution_count": null,
      "id": "e763ec6c-daf8-4e89-a941-3b57ddf7ef48",
      "metadata": {
        "id": "e763ec6c-daf8-4e89-a941-3b57ddf7ef48"
      },
      "outputs": [],
      "source": [
        "train_texts, val_texts, train_labels, val_labels = train_test_split(df['text'].tolist(), df['targets'].tolist(), test_size=0.2, random_state=77)"
      ]
    },
    {
      "cell_type": "code",
      "execution_count": null,
      "id": "2e12bc3c-d6a1-46c4-93ba-ace7bd661cef",
      "metadata": {
        "id": "2e12bc3c-d6a1-46c4-93ba-ace7bd661cef"
      },
      "outputs": [],
      "source": [
        "# Load BERT tokenizer and model\n",
        "tokenizer = BertTokenizer.from_pretrained('bert-base-uncased')"
      ]
    },
    {
      "cell_type": "code",
      "execution_count": null,
      "id": "b5347ef4-e768-4b2e-8cc0-7d8c6612e872",
      "metadata": {
        "id": "b5347ef4-e768-4b2e-8cc0-7d8c6612e872"
      },
      "outputs": [],
      "source": [
        "def tokenize_function(texts):\n",
        "    return tokenizer(texts, padding=True, truncation=True, max_length=128, return_tensors='tf')"
      ]
    },
    {
      "cell_type": "code",
      "execution_count": null,
      "id": "220d5306-f780-4ce2-9622-f715cf185e9f",
      "metadata": {
        "id": "220d5306-f780-4ce2-9622-f715cf185e9f"
      },
      "outputs": [],
      "source": [
        "# Tokenize the train and validation texts\n",
        "train_encodings = tokenize_function(train_texts)\n",
        "val_encodings = tokenize_function(val_texts)"
      ]
    },
    {
      "cell_type": "code",
      "execution_count": null,
      "id": "e70bc304-56d7-4b53-89dc-e83230932577",
      "metadata": {
        "id": "e70bc304-56d7-4b53-89dc-e83230932577"
      },
      "outputs": [],
      "source": [
        "# Convert to TensorFlow Dataset format\n",
        "train_dataset = tf.data.Dataset.from_tensor_slices((\n",
        "    dict(train_encodings),\n",
        "    tf.convert_to_tensor(train_labels, dtype=tf.float32)\n",
        "))\n",
        "\n",
        "val_dataset = tf.data.Dataset.from_tensor_slices((\n",
        "    dict(val_encodings),\n",
        "    tf.convert_to_tensor(val_labels, dtype=tf.float32)\n",
        "))"
      ]
    },
    {
      "cell_type": "code",
      "execution_count": null,
      "id": "8abfcd3e-c436-4de4-902e-d528d3c2ad5d",
      "metadata": {
        "id": "8abfcd3e-c436-4de4-902e-d528d3c2ad5d"
      },
      "outputs": [],
      "source": [
        "train_dataset = train_dataset.batch(32).shuffle(100).prefetch(tf.data.experimental.AUTOTUNE)\n",
        "val_dataset = val_dataset.batch(32).prefetch(tf.data.experimental.AUTOTUNE)"
      ]
    },
    {
      "cell_type": "code",
      "execution_count": null,
      "id": "46135249-3c9c-4c8f-9225-818181378c48",
      "metadata": {
        "id": "46135249-3c9c-4c8f-9225-818181378c48"
      },
      "outputs": [],
      "source": [
        "class BertWrapper(tf.keras.layers.Layer):\n",
        "    def __init__(self, config):\n",
        "        super(BertWrapper, self).__init__()\n",
        "        self.bert = TFBertModel.from_pretrained('bert-base-uncased', config=config)\n",
        "\n",
        "        # Freeze first 8 encoder layers\n",
        "        for i in range(8):\n",
        "            self.bert.bert.encoder.layer[i].trainable = False\n",
        "\n",
        "    def call(self, inputs):\n",
        "        input_ids = inputs['input_ids']\n",
        "        attention_mask = inputs['attention_mask']\n",
        "        outputs = self.bert(input_ids=input_ids, attention_mask=attention_mask)\n",
        "        return outputs.pooler_output\n"
      ]
    },
    {
      "cell_type": "code",
      "execution_count": null,
      "id": "25497293-c922-4985-b630-4c599eed6297",
      "metadata": {
        "id": "25497293-c922-4985-b630-4c599eed6297"
      },
      "outputs": [],
      "source": [
        "def build_model(hp):\n",
        "    from transformers import BertConfig\n",
        "    import tensorflow as tf\n",
        "    from tensorflow.keras import layers, Model\n",
        "\n",
        "    config = BertConfig.from_pretrained('bert-base-uncased')\n",
        "    config.num_labels = 6\n",
        "\n",
        "    learning_rate = hp.Float('lr', min_value=1e-6, max_value=5e-5, sampling='log')\n",
        "    dropout_rate = hp.Float('dropout_rate', min_value=0.1, max_value=0.3)\n",
        "\n",
        "    input_ids = layers.Input(shape=(None,), dtype=tf.int32, name='input_ids')\n",
        "    attention_mask = layers.Input(shape=(None,), dtype=tf.int32, name='attention_mask')\n",
        "\n",
        "    bert_output = BertWrapper(config)({'input_ids': input_ids, 'attention_mask': attention_mask})\n",
        "\n",
        "    x = layers.Dropout(dropout_rate)(bert_output)\n",
        "    output = layers.Dense(config.num_labels, activation='sigmoid')(x)\n",
        "\n",
        "    model = Model(inputs=[input_ids, attention_mask], outputs=output)\n",
        "    model.compile(\n",
        "        optimizer=tf.keras.optimizers.Adam(learning_rate=learning_rate),\n",
        "        loss=tf.keras.losses.BinaryCrossentropy(from_logits=False),\n",
        "        metrics=[tf.keras.metrics.AUC(multi_label=True)]\n",
        "    )\n",
        "\n",
        "    return model\n"
      ]
    },
    {
      "cell_type": "markdown",
      "id": "4f5ae8c7-66ec-4a4f-9df0-b961c88e6dec",
      "metadata": {
        "id": "4f5ae8c7-66ec-4a4f-9df0-b961c88e6dec"
      },
      "source": [
        "## Perform Hyperparameter Tuning"
      ]
    },
    {
      "cell_type": "code",
      "execution_count": null,
      "id": "1682cc82-e742-4641-99e4-de1307f9436c",
      "metadata": {
        "id": "1682cc82-e742-4641-99e4-de1307f9436c"
      },
      "outputs": [],
      "source": [
        "# EarlyStopping callback\n",
        "early_stopping = EarlyStopping(\n",
        "    monitor='val_loss',\n",
        "    patience=2,\n",
        "    restore_best_weights=True,\n",
        "    verbose=1\n",
        ")\n",
        "\n",
        "reduce_lr = tf.keras.callbacks.ReduceLROnPlateau(monitor='val_loss', factor=0.5, patience=1)"
      ]
    },
    {
      "cell_type": "code",
      "execution_count": null,
      "id": "db2d572b-287a-4fd4-8f2d-e4f7d0276fef",
      "metadata": {
        "id": "db2d572b-287a-4fd4-8f2d-e4f7d0276fef"
      },
      "outputs": [],
      "source": [
        "log_dir = \"logs/fit/\" + datetime.datetime.now().strftime(\"%Y%m%d-%H%M%S\")\n",
        "tensorboard_callback = TensorBoard(log_dir=log_dir, histogram_freq=1)"
      ]
    },
    {
      "cell_type": "code",
      "execution_count": null,
      "id": "0db4c2d9-fb65-4015-9774-06543d38b1a1",
      "metadata": {
        "id": "0db4c2d9-fb65-4015-9774-06543d38b1a1",
        "outputId": "f9150417-3230-48a7-be28-8ce19a1ef753"
      },
      "outputs": [
        {
          "name": "stdout",
          "output_type": "stream",
          "text": [
            "Trial 6 Complete [06h 47m 13s]\n",
            "val_loss: 0.11574476212263107\n",
            "\n",
            "Best val_loss So Far: 0.11217503994703293\n",
            "Total elapsed time: 1d 00h 56m 29s\n"
          ]
        }
      ],
      "source": [
        "tuner = kt.Hyperband(\n",
        "    build_model,\n",
        "    objective='val_loss',\n",
        "    max_epochs=3,\n",
        "    hyperband_iterations=1,\n",
        "    directory='bert_toxic_comments_windows',\n",
        "    project_name='bert_tuning'\n",
        ")\n",
        "\n",
        "tuner.search(train_dataset, validation_data=val_dataset, epochs=3, callbacks=[tensorboard_callback, early_stopping, reduce_lr])"
      ]
    },
    {
      "cell_type": "code",
      "execution_count": null,
      "id": "f89be99f-55f4-45ca-9489-174c6173b51f",
      "metadata": {
        "id": "f89be99f-55f4-45ca-9489-174c6173b51f",
        "outputId": "9eed4951-92d0-453b-d7df-17f70e583bc1"
      },
      "outputs": [
        {
          "name": "stdout",
          "output_type": "stream",
          "text": [
            "Best learning rate: 4.041831825786239e-05\n",
            "Best dropout rate: 0.25857560573155236\n"
          ]
        }
      ],
      "source": [
        "best_hps = tuner.get_best_hyperparameters(num_trials=1)[0]\n",
        "print(f\"Best learning rate: {best_hps.get('lr')}\")\n",
        "print(f\"Best dropout rate: {best_hps.get('dropout_rate')}\")"
      ]
    },
    {
      "cell_type": "code",
      "execution_count": null,
      "id": "e95b583c-463c-4a72-be17-2625d1b680e1",
      "metadata": {
        "id": "e95b583c-463c-4a72-be17-2625d1b680e1"
      },
      "outputs": [],
      "source": [
        "def final_build_model(hp):\n",
        "    from transformers import BertConfig\n",
        "    import tensorflow as tf\n",
        "    from tensorflow.keras import layers, Model\n",
        "\n",
        "    config = BertConfig.from_pretrained('bert-base-uncased')\n",
        "    config.num_labels = 6\n",
        "\n",
        "    learning_rate = hp.Float('lr', min_value=1e-6, max_value=5e-5, sampling='log')\n",
        "    dropout_rate = hp.Float('dropout_rate', min_value=0.1, max_value=0.3)\n",
        "\n",
        "    input_ids = layers.Input(shape=(None,), dtype=tf.int32, name='input_ids')\n",
        "    attention_mask = layers.Input(shape=(None,), dtype=tf.int32, name='attention_mask')\n",
        "\n",
        "    bert_output = BertWrapper(config)({'input_ids': input_ids, 'attention_mask': attention_mask})\n",
        "\n",
        "    x = layers.Dropout(dropout_rate)(bert_output)\n",
        "    output = layers.Dense(config.num_labels, activation='sigmoid')(x)\n",
        "\n",
        "    model = Model(inputs=[input_ids, attention_mask], outputs=output)\n",
        "    model.compile(\n",
        "        optimizer=tf.keras.optimizers.Adam(learning_rate=learning_rate),\n",
        "        loss=tf.keras.losses.BinaryCrossentropy(from_logits=False),\n",
        "        metrics=[tf.keras.metrics.BinaryAccuracy(name='accuracy', threshold=0.5), tf.keras.metrics.AUC(multi_label=True)]\n",
        "    )\n",
        "\n",
        "    return model\n"
      ]
    },
    {
      "cell_type": "code",
      "execution_count": null,
      "id": "a9fb2c59-5321-4553-97f7-24c0ee71c2da",
      "metadata": {
        "id": "a9fb2c59-5321-4553-97f7-24c0ee71c2da",
        "outputId": "aa3a9dbb-dc2f-4d1d-b10c-2648adaedd82"
      },
      "outputs": [
        {
          "name": "stdout",
          "output_type": "stream",
          "text": [
            "Epoch 1/5\n",
            "\u001b[1m3990/3990\u001b[0m \u001b[32m━━━━━━━━━━━━━━━━━━━━\u001b[0m\u001b[37m\u001b[0m \u001b[1m8186s\u001b[0m 2s/step - accuracy: 0.9276 - auc_4: 0.5381 - loss: 0.2116 - val_accuracy: 0.9633 - val_auc_4: 0.7197 - val_loss: 0.1276 - learning_rate: 4.0418e-05\n",
            "Epoch 2/5\n",
            "\u001b[1m3990/3990\u001b[0m \u001b[32m━━━━━━━━━━━━━━━━━━━━\u001b[0m\u001b[37m\u001b[0m \u001b[1m8311s\u001b[0m 2s/step - accuracy: 0.9633 - auc_4: 0.6704 - loss: 0.1301 - val_accuracy: 0.9635 - val_auc_4: 0.7883 - val_loss: 0.1179 - learning_rate: 4.0418e-05\n",
            "Epoch 3/5\n",
            "\u001b[1m3990/3990\u001b[0m \u001b[32m━━━━━━━━━━━━━━━━━━━━\u001b[0m\u001b[37m\u001b[0m \u001b[1m8336s\u001b[0m 2s/step - accuracy: 0.9634 - auc_4: 0.7526 - loss: 0.1209 - val_accuracy: 0.9635 - val_auc_4: 0.8320 - val_loss: 0.1112 - learning_rate: 4.0418e-05\n",
            "Epoch 4/5\n",
            "\u001b[1m3990/3990\u001b[0m \u001b[32m━━━━━━━━━━━━━━━━━━━━\u001b[0m\u001b[37m\u001b[0m \u001b[1m8318s\u001b[0m 2s/step - accuracy: 0.9638 - auc_4: 0.7840 - loss: 0.1148 - val_accuracy: 0.9640 - val_auc_4: 0.8553 - val_loss: 0.1060 - learning_rate: 4.0418e-05\n",
            "Epoch 5/5\n",
            "\u001b[1m3990/3990\u001b[0m \u001b[32m━━━━━━━━━━━━━━━━━━━━\u001b[0m\u001b[37m\u001b[0m \u001b[1m8273s\u001b[0m 2s/step - accuracy: 0.9647 - auc_4: 0.8141 - loss: 0.1092 - val_accuracy: 0.9647 - val_auc_4: 0.8764 - val_loss: 0.1019 - learning_rate: 4.0418e-05\n",
            "Restoring model weights from the end of the best epoch: 5.\n"
          ]
        },
        {
          "data": {
            "text/plain": [
              "<keras.src.callbacks.history.History at 0x26f26baaab0>"
            ]
          },
          "execution_count": 74,
          "metadata": {},
          "output_type": "execute_result"
        }
      ],
      "source": [
        "# Build the model with best hyperparameters\n",
        "best_model = final_build_model(best_hps)\n",
        "\n",
        "# Train the model with the best hyperparameters\n",
        "best_model.fit(train_dataset, validation_data=val_dataset, epochs=5, callbacks=[tensorboard_callback, early_stopping, reduce_lr])"
      ]
    },
    {
      "cell_type": "code",
      "execution_count": null,
      "id": "55ee89b0-28ed-4d3f-88ef-65fd0f5d5db7",
      "metadata": {
        "id": "55ee89b0-28ed-4d3f-88ef-65fd0f5d5db7",
        "outputId": "a3d1039a-259a-4c25-c49c-2584fd7c7e94"
      },
      "outputs": [
        {
          "name": "stdout",
          "output_type": "stream",
          "text": [
            "\u001b[1m998/998\u001b[0m \u001b[32m━━━━━━━━━━━━━━━━━━━━\u001b[0m\u001b[37m\u001b[0m \u001b[1m1659s\u001b[0m 2s/step - accuracy: 0.9648 - auc_4: 0.8760 - loss: 0.1025\n",
            "loss: 0.10189127922058105\n",
            "compile_metrics: 0.9646661877632141\n"
          ]
        }
      ],
      "source": [
        "results = best_model.evaluate(val_dataset)\n",
        "for name, value in zip(best_model.metrics_names, results):\n",
        "    print(f\"{name}: {value}\")"
      ]
    },
    {
      "cell_type": "code",
      "execution_count": null,
      "id": "bf18dfe6-0938-4673-ad7f-a0e7d9ba12c6",
      "metadata": {
        "id": "bf18dfe6-0938-4673-ad7f-a0e7d9ba12c6"
      },
      "outputs": [],
      "source": []
    }
  ],
  "metadata": {
    "kernelspec": {
      "display_name": "Python (tf_bert_env)",
      "language": "python",
      "name": "tf_bert_env"
    },
    "language_info": {
      "codemirror_mode": {
        "name": "ipython",
        "version": 3
      },
      "file_extension": ".py",
      "mimetype": "text/x-python",
      "name": "python",
      "nbconvert_exporter": "python",
      "pygments_lexer": "ipython3",
      "version": "3.12.10"
    },
    "colab": {
      "provenance": []
    }
  },
  "nbformat": 4,
  "nbformat_minor": 5
}